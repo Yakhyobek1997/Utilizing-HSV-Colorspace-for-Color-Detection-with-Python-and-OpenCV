{
 "cells": [
  {
   "cell_type": "code",
   "execution_count": 7,
   "metadata": {},
   "outputs": [],
   "source": [
    "import cv2\n",
    "import numpy as np\n",
    "from PIL import Image"
   ]
  },
  {
   "cell_type": "code",
   "execution_count": 8,
   "metadata": {},
   "outputs": [],
   "source": [
    "yellow = [0, 255, 255] # yellow in RGB colorspace"
   ]
  },
  {
   "cell_type": "code",
   "execution_count": 9,
   "metadata": {},
   "outputs": [],
   "source": [
    "def get_limits(color):\n",
    "    \n",
    "    \"\"\"Rang diapazonlarini qaytaradigan funksiya\"\"\"\n",
    "    \n",
    "    if color == 'yellow':\n",
    "        # Sariq rangning HSV diapazon\n",
    "        lowerLimit = (20, 100, 100)\n",
    "        upperLimit = (30, 255, 255)\n",
    "    else:\n",
    "        # Boshqa ranglar uchun mos dplar\n",
    "        lowerLimit = (0, 0, 0)\n",
    "        upperLimit = (0, 0, 0)\n",
    "    return lowerLimit, upperLimit\n",
    "\n",
    "# VideoCapture\n",
    "cap = cv2.VideoCapture(0)  #(birinchi kamera) orqali video olish\n",
    "\n",
    "# Kamera ochilganini tekshiramiz\n",
    "if not cap.isOpened():\n",
    "    print(\"Kamera ochilmadi. Iltimos, kameraning ishlayotganligini tekshiring\")\n",
    "    exit()\n",
    "\n",
    "while True:\n",
    "\n",
    "    ret, frame = cap.read()\n",
    "\n",
    "    if not ret or frame is None:\n",
    "        print(\"Tasvir o'qishda xato yuz berdi\")\n",
    "        break\n",
    "\n",
    "    # Tasvirni HSV rang makoniga o'tkazish\n",
    "    hsvImage = cv2.cvtColor(frame, cv2.COLOR_BGR2HSV)\n",
    "\n",
    "    # Rang chegaralarini olish\n",
    "    lowerLimit, upperLimit = get_limits(color='yellow')\n",
    "\n",
    "    # Rangga mos keladigan pikselni tanlash\n",
    "    mask = cv2.inRange(hsvImage, lowerLimit, upperLimit)\n",
    "\n",
    "    # Maskani PIL Image obyektiga aylantirish\n",
    "    mask_ = Image.fromarray(mask)\n",
    "\n",
    "    # Obyekt chegaralarini olish\n",
    "    bbox = mask_.getbbox()\n",
    "\n",
    "    # Agar obyekt topilgan bo'lsa, uning atrofini to'rtburchak bilan chizish\n",
    "    if bbox is not None:\n",
    "        x1, y1, x2, y2 = bbox\n",
    "        frame = cv2.rectangle(frame, (x1, y1), (x2, y2), (0, 255, 0), 5)\n",
    "\n",
    "    # Natijaviy tasvirni ko'rsatish\n",
    "    cv2.imshow('frame', frame)\n",
    "\n",
    "    if cv2.waitKey(1) & 0xFF == ord('q'):\n",
    "        break\n",
    "\n",
    "\n",
    "cap.release()\n",
    "cv2.destroyAllWindows()\n",
    "\n"
   ]
  }
 ],
 "metadata": {
  "kernelspec": {
   "display_name": "Python 3",
   "language": "python",
   "name": "python3"
  },
  "language_info": {
   "codemirror_mode": {
    "name": "ipython",
    "version": 3
   },
   "file_extension": ".py",
   "mimetype": "text/x-python",
   "name": "python",
   "nbconvert_exporter": "python",
   "pygments_lexer": "ipython3",
   "version": "3.12.4"
  }
 },
 "nbformat": 4,
 "nbformat_minor": 2
}
